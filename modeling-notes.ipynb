{
 "cells": [
  {
   "cell_type": "code",
   "execution_count": null,
   "id": "03c10062",
   "metadata": {},
   "outputs": [],
   "source": [
    "import pandas as pd\n",
    "import numpy as np\n",
    "import matplotlib.pyplot as plt\n",
    "from matplotlib import cm\n",
    "import seaborn as sns\n"
   ]
  },
  {
   "cell_type": "markdown",
   "id": "95cc29c5",
   "metadata": {},
   "source": [
    "## Introduction: KMeans clustering algorithm\n",
    "\n",
    "* Unsupervised Algorithm\n",
    "* Search for a pre-determined"
   ]
  },
  {
   "cell_type": "markdown",
   "id": "43ad8271",
   "metadata": {},
   "source": [
    "### How K-means algorithm works:\n",
    "\n",
    "Step 1: Randomly choose k starting centers\n",
    "\n",
    "Step 2: Cluster Assignment:\n",
    "Assign each observation to nearest Center (based on distance). Observations assigned to a center are part of a cluster.\n",
    "\n",
    "Step 3: Move Centeroids:\n",
    "Recalculate new centroids location (mean of observations within a cluster).\n",
    "\n",
    "Step 4: Keep repeating step 2 and 3 until centers do no move."
   ]
  },
  {
   "cell_type": "markdown",
   "id": "8541783e",
   "metadata": {},
   "source": [
    "### Sklearn implementation"
   ]
  },
  {
   "cell_type": "code",
   "execution_count": null,
   "id": "1586af82",
   "metadata": {},
   "outputs": [],
   "source": [
    "from pydataset import data\n",
    "\n",
    "#import data\n",
    "iris = data('iris')\n",
    "iris.head()"
   ]
  },
  {
   "cell_type": "code",
   "execution_count": null,
   "id": "3e5ca12d",
   "metadata": {},
   "outputs": [],
   "source": [
    "# rename columns\n",
    "\n",
    "iris.columns = ['sepal_length', 'sepal_width', 'petal_length', 'petal_wdith']"
   ]
  },
  {
   "cell_type": "code",
   "execution_count": null,
   "id": "0ca7a675",
   "metadata": {},
   "outputs": [],
   "source": [
    "# define independent variables for k-means\n",
    "\n",
    "X = iris[['speal_length', 'petal_length']]\n",
    "X.head()"
   ]
  },
  {
   "cell_type": "code",
   "execution_count": null,
   "id": "c1ba9027",
   "metadata": {},
   "outputs": [],
   "source": [
    "# look at distribution of speal length and petal length\n",
    "\n",
    "X.hist()"
   ]
  },
  {
   "cell_type": "code",
   "execution_count": null,
   "id": "bd8fc1bf",
   "metadata": {},
   "outputs": [],
   "source": [
    "# Scale the X\n",
    "\n",
    "from sklearn.preprocessing import StandardScaler\n",
    "\n",
    "scaler = StandardScaler().fit(X)\n",
    "X_scaled = pd.DataFrame(scaler.transfrom(X), columns = X.columns).set_index([X.index.va])"
   ]
  },
  {
   "cell_type": "code",
   "execution_count": null,
   "id": "ef5ce94d",
   "metadata": {},
   "outputs": [],
   "source": [
    "# sklearn implementation of KMeans\n",
    "\n",
    "#define the thing\n",
    "kmeans = KMeans(n_clusters=3, random_state = 123)\n",
    "\n",
    "#fit the thing\n",
    "kmeans.fit(X_scaled)\n",
    "\n",
    "# Use (predict using) the thing\n",
    "kmeans.predict(X_scaled)"
   ]
  },
  {
   "cell_type": "code",
   "execution_count": null,
   "id": "b1dfb3e7",
   "metadata": {},
   "outputs": [],
   "source": [
    "# make new column names cluster in iris and X_scaled dataframe\n",
    "\n",
    "iris['cluster'] = kmeans.predict(X_scaled)\n",
    "\n",
    "X_scaled['cluster'] = kmeans.predict(X_scaled)"
   ]
  },
  {
   "cell_type": "code",
   "execution_count": null,
   "id": "9a29039a",
   "metadata": {},
   "outputs": [],
   "source": [
    "# lets look at sample of 15 randomly selected rows in iris dataset\n",
    "\n",
    "iris.sample(15)"
   ]
  },
  {
   "cell_type": "code",
   "execution_count": null,
   "id": "eaa26f06",
   "metadata": {},
   "outputs": [],
   "source": [
    "# Visualize the scatter plot for Actual vs predicted (K-Means)\n",
    "\n",
    "viz_kmeans.viz"
   ]
  },
  {
   "cell_type": "markdown",
   "id": "e96e290b",
   "metadata": {},
   "source": [
    "### Attributes for Kmeans:\n",
    "\n",
    "* cluster_centers_:"
   ]
  },
  {
   "cell_type": "code",
   "execution_count": null,
   "id": "163be8d1",
   "metadata": {},
   "outputs": [],
   "source": [
    "# Cluster Centers aka centroids. The output is scaled!!\n",
    "\n",
    "kmeans.cluster_centers_"
   ]
  },
  {
   "cell_type": "code",
   "execution_count": null,
   "id": "200d6b9d",
   "metadata": {},
   "outputs": [],
   "source": [
    "# Make a dataframe\n",
    "centroids_scaled = pd.DataFrame(kmeans.cluster)"
   ]
  },
  {
   "cell_type": "code",
   "execution_count": null,
   "id": "1800e917",
   "metadata": {},
   "outputs": [],
   "source": [
    "# How to get unscaled centroids?\n",
    "\n",
    "scaler.inverse_transform(kmeans.cluster_centers_)"
   ]
  },
  {
   "cell_type": "code",
   "execution_count": null,
   "id": "926374bc",
   "metadata": {},
   "outputs": [],
   "source": [
    "# Labels (same as from predict)\n",
    "\n",
    "kmeans.labels_"
   ]
  },
  {
   "cell_type": "code",
   "execution_count": null,
   "id": "a1f6366b",
   "metadata": {},
   "outputs": [],
   "source": [
    "# lets visualize the clusters along with the centers on scaled data.\n",
    "\n",
    "plt.figure(figsize=(14,9))\n",
    "\n",
    "#"
   ]
  },
  {
   "cell_type": "code",
   "execution_count": null,
   "id": "8bf236a2",
   "metadata": {},
   "outputs": [],
   "source": [
    "# to avoid Seaborn 'hue' issue with integers:\n",
    "iris['cluster'] = 'cluster_' + iris.cluster"
   ]
  },
  {
   "cell_type": "markdown",
   "id": "981dd16f",
   "metadata": {},
   "source": [
    "### Look at two cluster (i.e k =2)"
   ]
  },
  {
   "cell_type": "code",
   "execution_count": null,
   "id": "761364fc",
   "metadata": {},
   "outputs": [],
   "source": [
    "X = iris[['petal_length', 'sepal_length']]\n",
    "from sklearn.preprocessing import StandardScaler\n",
    "\n",
    "scaler = StandardScaler().fit(X)\n",
    "X_scaled = pd.DataFrame(scaler.transform(X), columns = X.columns).set_index([X])"
   ]
  },
  {
   "cell_type": "code",
   "execution_count": null,
   "id": "33f5b2d3",
   "metadata": {},
   "outputs": [],
   "source": [
    "# lets look at two clusters (i.e k =2)\n",
    "\n",
    "kmeans = KMeans(n_clusters =2)\n",
    "kmeans.fit(X_scaled)\n",
    "X_scaled['cluster'] = kmeans.predict(X_scaled)\n",
    "sns.scatterplot(x='petal_length', y='sepal_length', data = X_scaled, hue = 'cluster')"
   ]
  },
  {
   "cell_type": "markdown",
   "id": "fdbd0087",
   "metadata": {},
   "source": [
    "### How to choose K\n",
    "\n",
    "#### A-prior knowledge  about application domain/educated guess\n",
    "* How many five different ytpes of bacteria in the world (k=5)\n",
    "* There are two different kidns of peopl ein world (k=2)\n",
    "\n",
    "#### Search for a 'good' k value\n",
    "* Try different k values and evaluate results\n",
    "    * Inertia = sum of squared distances from each point to it's assigned centroid\n",
    "    * minimize inertia(?)\n",
    "    * Use elbow method (using inertia) to choose k\n",
    "    \n",
    "#### Use hierarchical clustering\n",
    "* Try on a subset of data and guess k"
   ]
  },
  {
   "cell_type": "code",
   "execution_count": null,
   "id": "c104df4a",
   "metadata": {},
   "outputs": [],
   "source": [
    "# kmeans object has 'inertia' attribute\n",
    "kmeans.inertia_"
   ]
  },
  {
   "cell_type": "code",
   "execution_count": null,
   "id": "21e43bdf",
   "metadata": {},
   "outputs": [],
   "source": [
    "X = iris[['petal_length', 'sepal_length']]\n",
    "from sklearn.preprocessing import StandardScaler\n",
    "scaler = StandardScaler().fit(X)\n",
    "X_scaled = pd.DataFrame(scaler.transfrom(X), columns=X.columns).set_index([X.index.va])\n",
    "\n",
    "k = 2\n",
    "\n",
    "kmeans = KMeans(n_clusters=k)\n",
    "kmeans.fit(X_scaled)\n",
    "kmeans.inertia_"
   ]
  },
  {
   "cell_type": "code",
   "execution_count": null,
   "id": "ee706a04",
   "metadata": {},
   "outputs": [],
   "source": [
    "# inertia with k=3\n",
    "k = 3\n",
    "\n",
    "kmeans = KMeans(n_clusters=k)\n",
    "kmeans.fit(X_scaled)\n",
    "kmeans.inertia_"
   ]
  },
  {
   "cell_type": "code",
   "execution_count": null,
   "id": "e95b5c8b",
   "metadata": {},
   "outputs": [],
   "source": [
    "# lets "
   ]
  },
  {
   "cell_type": "code",
   "execution_count": null,
   "id": "e678baa3",
   "metadata": {},
   "outputs": [],
   "source": [
    "# What value of k is appropriate?\n",
    "\n",
    "fig, axs = plt.subplots(2,2, figsize=(13,13), sharex=True, sharey=True)\n",
    "\n",
    "for ax, k in zip(axs.ravel(), range(2, 6)):\n",
    "    clusters = KMeans"
   ]
  },
  {
   "cell_type": "code",
   "execution_count": null,
   "id": "42a30895",
   "metadata": {},
   "outputs": [],
   "source": [
    "# Challenges:\n",
    "\n",
    "# Which features should I use to create clusters?\n",
    "# What k should I select?\n",
    "# Are clusters meaningful and provide any value?"
   ]
  },
  {
   "cell_type": "code",
   "execution_count": null,
   "id": "d715db29",
   "metadata": {},
   "outputs": [],
   "source": []
  },
  {
   "cell_type": "code",
   "execution_count": null,
   "id": "e1664f85",
   "metadata": {},
   "outputs": [],
   "source": []
  },
  {
   "cell_type": "code",
   "execution_count": null,
   "id": "b20507e7",
   "metadata": {},
   "outputs": [],
   "source": []
  },
  {
   "cell_type": "code",
   "execution_count": null,
   "id": "31adb99d",
   "metadata": {},
   "outputs": [],
   "source": []
  },
  {
   "cell_type": "code",
   "execution_count": null,
   "id": "608044f8",
   "metadata": {},
   "outputs": [],
   "source": []
  },
  {
   "cell_type": "code",
   "execution_count": null,
   "id": "568954cb",
   "metadata": {},
   "outputs": [],
   "source": []
  },
  {
   "cell_type": "code",
   "execution_count": null,
   "id": "427587b5",
   "metadata": {},
   "outputs": [],
   "source": []
  }
 ],
 "metadata": {
  "kernelspec": {
   "display_name": "Python 3 (ipykernel)",
   "language": "python",
   "name": "python3"
  },
  "language_info": {
   "codemirror_mode": {
    "name": "ipython",
    "version": 3
   },
   "file_extension": ".py",
   "mimetype": "text/x-python",
   "name": "python",
   "nbconvert_exporter": "python",
   "pygments_lexer": "ipython3",
   "version": "3.8.8"
  }
 },
 "nbformat": 4,
 "nbformat_minor": 5
}

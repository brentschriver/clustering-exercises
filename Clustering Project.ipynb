{
 "cells": [
  {
   "cell_type": "code",
   "execution_count": 2,
   "id": "8fe3c043",
   "metadata": {},
   "outputs": [],
   "source": [
    "# ignore warnings\n",
    "import warnings\n",
    "warnings.filterwarnings(\"ignore\")\n",
    "\n",
    "# Wrangling\n",
    "import pandas as pd\n",
    "import numpy as np\n",
    "import acquire\n",
    "\n",
    "# Exploring\n",
    "import scipy.stats as stats\n",
    "\n",
    "# Visualizing\n",
    "%matplotlib inline\n",
    "import matplotlib.pyplot as plt\n",
    "import seaborn as sns"
   ]
  },
  {
   "cell_type": "code",
   "execution_count": 3,
   "id": "f8a49ea8",
   "metadata": {},
   "outputs": [],
   "source": [
    "zillow = acquire.get_zillow_data()"
   ]
  },
  {
   "cell_type": "code",
   "execution_count": 4,
   "id": "5d18b1ed",
   "metadata": {},
   "outputs": [
    {
     "name": "stdout",
     "output_type": "stream",
     "text": [
      "<class 'pandas.core.frame.DataFrame'>\n",
      "Int64Index: 77574 entries, 0 to 77573\n",
      "Data columns (total 68 columns):\n",
      " #   Column                        Non-Null Count  Dtype  \n",
      "---  ------                        --------------  -----  \n",
      " 0   id                            77574 non-null  int64  \n",
      " 1   parcelid                      77574 non-null  int64  \n",
      " 2   airconditioningtypeid         25006 non-null  float64\n",
      " 3   architecturalstyletypeid      206 non-null    float64\n",
      " 4   basementsqft                  50 non-null     float64\n",
      " 5   bathroomcnt                   77574 non-null  float64\n",
      " 6   bedroomcnt                    77574 non-null  float64\n",
      " 7   buildingclasstypeid           15 non-null     float64\n",
      " 8   buildingqualitytypeid         49808 non-null  float64\n",
      " 9   calculatedbathnbr             76959 non-null  float64\n",
      " 10  decktypeid                    614 non-null    float64\n",
      " 11  finishedfloor1squarefeet      6035 non-null   float64\n",
      " 12  calculatedfinishedsquarefeet  77374 non-null  float64\n",
      " 13  finishedsquarefeet12          73919 non-null  float64\n",
      " 14  finishedsquarefeet13          42 non-null     float64\n",
      " 15  finishedsquarefeet15          3027 non-null   float64\n",
      " 16  finishedsquarefeet50          6035 non-null   float64\n",
      " 17  finishedsquarefeet6           386 non-null    float64\n",
      " 18  fips                          77574 non-null  float64\n",
      " 19  fireplacecnt                  8287 non-null   float64\n",
      " 20  fullbathcnt                   76959 non-null  float64\n",
      " 21  garagecarcnt                  25517 non-null  float64\n",
      " 22  garagetotalsqft               25517 non-null  float64\n",
      " 23  hashottuborspa                1539 non-null   float64\n",
      " 24  heatingorsystemtypeid         49569 non-null  float64\n",
      " 25  latitude                      77574 non-null  float64\n",
      " 26  longitude                     77574 non-null  float64\n",
      " 27  lotsizesquarefeet             69317 non-null  float64\n",
      " 28  poolcnt                       16173 non-null  float64\n",
      " 29  poolsizesum                   869 non-null    float64\n",
      " 30  pooltypeid10                  465 non-null    float64\n",
      " 31  pooltypeid2                   1074 non-null   float64\n",
      " 32  pooltypeid7                   15078 non-null  float64\n",
      " 33  propertycountylandusecode     77574 non-null  object \n",
      " 34  propertylandusetypeid         77574 non-null  float64\n",
      " 35  propertyzoningdesc            50474 non-null  object \n",
      " 36  rawcensustractandblock        77574 non-null  float64\n",
      " 37  regionidcity                  76102 non-null  float64\n",
      " 38  regionidcounty                77574 non-null  float64\n",
      " 39  regionidneighborhood          30973 non-null  float64\n",
      " 40  regionidzip                   77524 non-null  float64\n",
      " 41  roomcnt                       77574 non-null  float64\n",
      " 42  storytypeid                   50 non-null     float64\n",
      " 43  threequarterbathnbr           10105 non-null  float64\n",
      " 44  typeconstructiontypeid        222 non-null    float64\n",
      " 45  unitcnt                       50702 non-null  float64\n",
      " 46  yardbuildingsqft17            2393 non-null   float64\n",
      " 47  yardbuildingsqft26            70 non-null     float64\n",
      " 48  yearbuilt                     77305 non-null  float64\n",
      " 49  numberofstories               17596 non-null  float64\n",
      " 50  fireplaceflag                 172 non-null    float64\n",
      " 51  structuretaxvaluedollarcnt    77459 non-null  float64\n",
      " 52  taxvaluedollarcnt             77573 non-null  float64\n",
      " 53  assessmentyear                77574 non-null  float64\n",
      " 54  landtaxvaluedollarcnt         77572 non-null  float64\n",
      " 55  taxamount                     77569 non-null  float64\n",
      " 56  taxdelinquencyflag            2900 non-null   object \n",
      " 57  taxdelinquencyyear            2900 non-null   float64\n",
      " 58  censustractandblock           77327 non-null  float64\n",
      " 59  logerror                      77574 non-null  float64\n",
      " 60  transactiondate               77574 non-null  object \n",
      " 61  airconditioningdesc           25006 non-null  object \n",
      " 62  architecturalstyledesc        206 non-null    object \n",
      " 63  buildingclassdesc             15 non-null     object \n",
      " 64  heatingorsystemdesc           49569 non-null  object \n",
      " 65  propertylandusedesc           77574 non-null  object \n",
      " 66  storydesc                     50 non-null     object \n",
      " 67  typeconstructiondesc          222 non-null    object \n",
      "dtypes: float64(55), int64(2), object(11)\n",
      "memory usage: 40.8+ MB\n"
     ]
    }
   ],
   "source": [
    "# Get a peak of the dataframe\n",
    "zillow.info()"
   ]
  },
  {
   "cell_type": "code",
   "execution_count": 11,
   "id": "27e378d7",
   "metadata": {},
   "outputs": [],
   "source": [
    "# Create a function that will remove rows and columns that have missing values past a certain threshold.\n",
    "def handle_missing_values(df, p_row = 0.84, p_col = 0.84):\n",
    "    ''' function which takes in a dataframe, required notnull proportions of non-null rows and columns.\n",
    "    drop the columns and rows columns based on theshold:'''\n",
    "    \n",
    "    #drop columns with nulls\n",
    "    threshold = int(p_col * len(df.index)) # Require that many non-NA values.\n",
    "    df.dropna(axis = 1, thresh = threshold, inplace = True)\n",
    "    \n",
    "    #drop rows with nulls\n",
    "    threshold = int(p_row * len(df.columns)) # Require that many non-NA values.\n",
    "    df.dropna(axis = 0, thresh = threshold, inplace = True)\n",
    "    \n",
    "    \n",
    "    return df"
   ]
  },
  {
   "cell_type": "code",
   "execution_count": 12,
   "id": "2e08bca2",
   "metadata": {},
   "outputs": [],
   "source": [
    "b = handle_missing_values(b)"
   ]
  },
  {
   "cell_type": "code",
   "execution_count": 41,
   "id": "ab948b5f",
   "metadata": {},
   "outputs": [
    {
     "name": "stdout",
     "output_type": "stream",
     "text": [
      "<class 'pandas.core.frame.DataFrame'>\n",
      "Int64Index: 77474 entries, 0 to 77573\n",
      "Data columns (total 16 columns):\n",
      " #   Column                 Non-Null Count  Dtype  \n",
      "---  ------                 --------------  -----  \n",
      " 0   id                     77474 non-null  int64  \n",
      " 1   parcelid               77474 non-null  int64  \n",
      " 2   bathroomcnt            77474 non-null  float64\n",
      " 3   bedroomcnt             77474 non-null  float64\n",
      " 4   fips                   77474 non-null  float64\n",
      " 5   latitude               77474 non-null  float64\n",
      " 6   longitude              77474 non-null  float64\n",
      " 7   lotsizesquarefeet      77474 non-null  float64\n",
      " 8   roomcnt                77474 non-null  float64\n",
      " 9   yearbuilt              77474 non-null  float64\n",
      " 10  taxvaluedollarcnt      77474 non-null  float64\n",
      " 11  assessmentyear         77474 non-null  float64\n",
      " 12  landtaxvaluedollarcnt  77474 non-null  float64\n",
      " 13  taxamount              77474 non-null  float64\n",
      " 14  logerror               77474 non-null  float64\n",
      " 15  transactiondate        77474 non-null  object \n",
      "dtypes: float64(13), int64(2), object(1)\n",
      "memory usage: 10.0+ MB\n"
     ]
    }
   ],
   "source": [
    "b.info()"
   ]
  },
  {
   "cell_type": "code",
   "execution_count": null,
   "id": "5374df05",
   "metadata": {},
   "outputs": [],
   "source": []
  },
  {
   "cell_type": "code",
   "execution_count": 15,
   "id": "72580a3a",
   "metadata": {},
   "outputs": [
    {
     "data": {
      "text/plain": [
       "id                                 0\n",
       "parcelid                           0\n",
       "bathroomcnt                        0\n",
       "bedroomcnt                         0\n",
       "calculatedbathnbr                515\n",
       "calculatedfinishedsquarefeet     101\n",
       "finishedsquarefeet12            3555\n",
       "fips                               0\n",
       "fullbathcnt                      515\n",
       "latitude                           0\n",
       "longitude                          0\n",
       "lotsizesquarefeet               8174\n",
       "propertycountylandusecode          0\n",
       "propertylandusetypeid              0\n",
       "rawcensustractandblock             0\n",
       "regionidcity                    1460\n",
       "regionidcounty                     0\n",
       "regionidzip                       45\n",
       "roomcnt                            0\n",
       "yearbuilt                        169\n",
       "structuretaxvaluedollarcnt        99\n",
       "taxvaluedollarcnt                  1\n",
       "assessmentyear                     0\n",
       "landtaxvaluedollarcnt              1\n",
       "taxamount                          5\n",
       "censustractandblock              226\n",
       "logerror                           0\n",
       "transactiondate                    0\n",
       "propertylandusedesc                0\n",
       "dtype: int64"
      ]
     },
     "execution_count": 15,
     "metadata": {},
     "output_type": "execute_result"
    }
   ],
   "source": [
    "# Take a look at the amount of missing values.\n",
    "b.isnull().sum()"
   ]
  },
  {
   "cell_type": "code",
   "execution_count": 23,
   "id": "1a4aca64",
   "metadata": {},
   "outputs": [],
   "source": [
    "# Create a list of columns to drop.\n",
    "columns_to_drop = ['calculatedbathnbr','calculatedfinishedsquarefeet','finishedsquarefeet12','fullbathcnt','propertycountylandusecode','propertylandusetypeid','rawcensustractandblock','regionidcity','regionidcounty','regionidzip','structuretaxvaluedollarcnt','censustractandblock','propertylandusedesc']"
   ]
  },
  {
   "cell_type": "code",
   "execution_count": 20,
   "id": "1084cf69",
   "metadata": {},
   "outputs": [],
   "source": [
    "def drop_columns(df, drop_col):\n",
    "    df = df.drop(columns=drop_col)\n",
    "    return df"
   ]
  },
  {
   "cell_type": "code",
   "execution_count": 25,
   "id": "2d0d3f8d",
   "metadata": {},
   "outputs": [],
   "source": [
    "b = drop_columns(b, columns_to_drop)"
   ]
  },
  {
   "cell_type": "code",
   "execution_count": 28,
   "id": "fdc9e7ba",
   "metadata": {},
   "outputs": [
    {
     "data": {
      "text/plain": [
       "id                          0\n",
       "parcelid                    0\n",
       "bathroomcnt                 0\n",
       "bedroomcnt                  0\n",
       "fips                        0\n",
       "latitude                    0\n",
       "longitude                   0\n",
       "lotsizesquarefeet        8174\n",
       "roomcnt                     0\n",
       "yearbuilt                 169\n",
       "taxvaluedollarcnt           1\n",
       "assessmentyear              0\n",
       "landtaxvaluedollarcnt       1\n",
       "taxamount                   5\n",
       "logerror                    0\n",
       "transactiondate             0\n",
       "dtype: int64"
      ]
     },
     "execution_count": 28,
     "metadata": {},
     "output_type": "execute_result"
    }
   ],
   "source": [
    "b.isna().sum()"
   ]
  },
  {
   "cell_type": "code",
   "execution_count": null,
   "id": "5ea64ed1",
   "metadata": {},
   "outputs": [],
   "source": [
    "# Fill all missing values with the mean of the column.\n",
    "df['embark_town'] = df.embark_town.fillna(value='Southampton')"
   ]
  },
  {
   "cell_type": "code",
   "execution_count": 39,
   "id": "6c8677c7",
   "metadata": {},
   "outputs": [
    {
     "name": "stdout",
     "output_type": "stream",
     "text": [
      "0          4506.0\n",
      "1         12647.0\n",
      "2          8432.0\n",
      "3         13038.0\n",
      "4        278581.0\n",
      "           ...   \n",
      "77569     59487.0\n",
      "77570     47405.0\n",
      "77571     12105.0\n",
      "77572      5074.0\n",
      "77573      6347.0\n",
      "Name: lotsizesquarefeet, Length: 77474, dtype: float64\n",
      "0        1998.0\n",
      "1        1967.0\n",
      "2        1962.0\n",
      "3        1970.0\n",
      "4        1964.0\n",
      "          ...  \n",
      "77569    1980.0\n",
      "77570    1940.0\n",
      "77571    1964.0\n",
      "77572    1954.0\n",
      "77573    1955.0\n",
      "Name: yearbuilt, Length: 77474, dtype: float64\n",
      "0        1023282.0\n",
      "1         464000.0\n",
      "2         564778.0\n",
      "3         145143.0\n",
      "4         119407.0\n",
      "           ...    \n",
      "77569     379000.0\n",
      "77570     354621.0\n",
      "77571      67205.0\n",
      "77572      49546.0\n",
      "77573     522000.0\n",
      "Name: taxvaluedollarcnt, Length: 77474, dtype: float64\n",
      "0        537569.0\n",
      "1        376000.0\n",
      "2        479489.0\n",
      "3         36225.0\n",
      "4         45726.0\n",
      "           ...   \n",
      "77569    114000.0\n",
      "77570    283704.0\n",
      "77571     16522.0\n",
      "77572     16749.0\n",
      "77573    382000.0\n",
      "Name: landtaxvaluedollarcnt, Length: 77474, dtype: float64\n",
      "0        11013.72\n",
      "1         5672.48\n",
      "2         6488.30\n",
      "3         1777.51\n",
      "4         1533.89\n",
      "           ...   \n",
      "77569     4685.34\n",
      "77570     4478.43\n",
      "77571     1107.48\n",
      "77572      876.43\n",
      "77573     6317.15\n",
      "Name: taxamount, Length: 77474, dtype: float64\n"
     ]
    }
   ],
   "source": [
    "for col in b.columns:\n",
    "    if b[col].isna().sum() > 0:\n",
    "        b[col] = b[col].fillna(value = b[col].mean())\n",
    "        print(b[col])"
   ]
  },
  {
   "cell_type": "code",
   "execution_count": 40,
   "id": "a5fef841",
   "metadata": {},
   "outputs": [
    {
     "data": {
      "text/plain": [
       "id                       0\n",
       "parcelid                 0\n",
       "bathroomcnt              0\n",
       "bedroomcnt               0\n",
       "fips                     0\n",
       "latitude                 0\n",
       "longitude                0\n",
       "lotsizesquarefeet        0\n",
       "roomcnt                  0\n",
       "yearbuilt                0\n",
       "taxvaluedollarcnt        0\n",
       "assessmentyear           0\n",
       "landtaxvaluedollarcnt    0\n",
       "taxamount                0\n",
       "logerror                 0\n",
       "transactiondate          0\n",
       "dtype: int64"
      ]
     },
     "execution_count": 40,
     "metadata": {},
     "output_type": "execute_result"
    }
   ],
   "source": [
    "b.isna().sum()"
   ]
  }
 ],
 "metadata": {
  "kernelspec": {
   "display_name": "Python 3 (ipykernel)",
   "language": "python",
   "name": "python3"
  },
  "language_info": {
   "codemirror_mode": {
    "name": "ipython",
    "version": 3
   },
   "file_extension": ".py",
   "mimetype": "text/x-python",
   "name": "python",
   "nbconvert_exporter": "python",
   "pygments_lexer": "ipython3",
   "version": "3.8.8"
  }
 },
 "nbformat": 4,
 "nbformat_minor": 5
}

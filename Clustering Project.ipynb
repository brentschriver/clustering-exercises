{
 "cells": [
  {
   "cell_type": "code",
   "execution_count": 2,
   "id": "8fe3c043",
   "metadata": {},
   "outputs": [],
   "source": [
    "# ignore warnings\n",
    "import warnings\n",
    "warnings.filterwarnings(\"ignore\")\n",
    "\n",
    "# Wrangling\n",
    "import pandas as pd\n",
    "import numpy as np\n",
    "import acquire\n",
    "\n",
    "# Exploring\n",
    "import scipy.stats as stats\n",
    "\n",
    "# Visualizing\n",
    "%matplotlib inline\n",
    "import matplotlib.pyplot as plt\n",
    "import seaborn as sns"
   ]
  },
  {
   "cell_type": "code",
   "execution_count": 4,
   "id": "f8a49ea8",
   "metadata": {},
   "outputs": [],
   "source": [
    "zillow = acquire.get_zillow_data()"
   ]
  },
  {
   "cell_type": "code",
   "execution_count": 7,
   "id": "5d18b1ed",
   "metadata": {},
   "outputs": [
    {
     "name": "stdout",
     "output_type": "stream",
     "text": [
      "<class 'pandas.core.frame.DataFrame'>\n",
      "Int64Index: 77574 entries, 0 to 77573\n",
      "Data columns (total 68 columns):\n",
      " #   Column                        Non-Null Count  Dtype  \n",
      "---  ------                        --------------  -----  \n",
      " 0   id                            77574 non-null  int64  \n",
      " 1   parcelid                      77574 non-null  int64  \n",
      " 2   airconditioningtypeid         25006 non-null  float64\n",
      " 3   architecturalstyletypeid      206 non-null    float64\n",
      " 4   basementsqft                  50 non-null     float64\n",
      " 5   bathroomcnt                   77574 non-null  float64\n",
      " 6   bedroomcnt                    77574 non-null  float64\n",
      " 7   buildingclasstypeid           15 non-null     float64\n",
      " 8   buildingqualitytypeid         49808 non-null  float64\n",
      " 9   calculatedbathnbr             76959 non-null  float64\n",
      " 10  decktypeid                    614 non-null    float64\n",
      " 11  finishedfloor1squarefeet      6035 non-null   float64\n",
      " 12  calculatedfinishedsquarefeet  77374 non-null  float64\n",
      " 13  finishedsquarefeet12          73919 non-null  float64\n",
      " 14  finishedsquarefeet13          42 non-null     float64\n",
      " 15  finishedsquarefeet15          3027 non-null   float64\n",
      " 16  finishedsquarefeet50          6035 non-null   float64\n",
      " 17  finishedsquarefeet6           386 non-null    float64\n",
      " 18  fips                          77574 non-null  float64\n",
      " 19  fireplacecnt                  8287 non-null   float64\n",
      " 20  fullbathcnt                   76959 non-null  float64\n",
      " 21  garagecarcnt                  25517 non-null  float64\n",
      " 22  garagetotalsqft               25517 non-null  float64\n",
      " 23  hashottuborspa                1539 non-null   float64\n",
      " 24  heatingorsystemtypeid         49569 non-null  float64\n",
      " 25  latitude                      77574 non-null  float64\n",
      " 26  longitude                     77574 non-null  float64\n",
      " 27  lotsizesquarefeet             69317 non-null  float64\n",
      " 28  poolcnt                       16173 non-null  float64\n",
      " 29  poolsizesum                   869 non-null    float64\n",
      " 30  pooltypeid10                  465 non-null    float64\n",
      " 31  pooltypeid2                   1074 non-null   float64\n",
      " 32  pooltypeid7                   15078 non-null  float64\n",
      " 33  propertycountylandusecode     77574 non-null  object \n",
      " 34  propertylandusetypeid         77574 non-null  float64\n",
      " 35  propertyzoningdesc            50474 non-null  object \n",
      " 36  rawcensustractandblock        77574 non-null  float64\n",
      " 37  regionidcity                  76102 non-null  float64\n",
      " 38  regionidcounty                77574 non-null  float64\n",
      " 39  regionidneighborhood          30973 non-null  float64\n",
      " 40  regionidzip                   77524 non-null  float64\n",
      " 41  roomcnt                       77574 non-null  float64\n",
      " 42  storytypeid                   50 non-null     float64\n",
      " 43  threequarterbathnbr           10105 non-null  float64\n",
      " 44  typeconstructiontypeid        222 non-null    float64\n",
      " 45  unitcnt                       50702 non-null  float64\n",
      " 46  yardbuildingsqft17            2393 non-null   float64\n",
      " 47  yardbuildingsqft26            70 non-null     float64\n",
      " 48  yearbuilt                     77305 non-null  float64\n",
      " 49  numberofstories               17596 non-null  float64\n",
      " 50  fireplaceflag                 172 non-null    float64\n",
      " 51  structuretaxvaluedollarcnt    77459 non-null  float64\n",
      " 52  taxvaluedollarcnt             77573 non-null  float64\n",
      " 53  assessmentyear                77574 non-null  float64\n",
      " 54  landtaxvaluedollarcnt         77572 non-null  float64\n",
      " 55  taxamount                     77569 non-null  float64\n",
      " 56  taxdelinquencyflag            2900 non-null   object \n",
      " 57  taxdelinquencyyear            2900 non-null   float64\n",
      " 58  censustractandblock           77327 non-null  float64\n",
      " 59  logerror                      77574 non-null  float64\n",
      " 60  transactiondate               77574 non-null  object \n",
      " 61  airconditioningdesc           25006 non-null  object \n",
      " 62  architecturalstyledesc        206 non-null    object \n",
      " 63  buildingclassdesc             15 non-null     object \n",
      " 64  heatingorsystemdesc           49569 non-null  object \n",
      " 65  propertylandusedesc           77574 non-null  object \n",
      " 66  storydesc                     50 non-null     object \n",
      " 67  typeconstructiondesc          222 non-null    object \n",
      "dtypes: float64(55), int64(2), object(11)\n",
      "memory usage: 40.8+ MB\n"
     ]
    }
   ],
   "source": [
    "zillow.info()"
   ]
  },
  {
   "cell_type": "code",
   "execution_count": null,
   "id": "27e378d7",
   "metadata": {},
   "outputs": [],
   "source": []
  }
 ],
 "metadata": {
  "kernelspec": {
   "display_name": "Python 3 (ipykernel)",
   "language": "python",
   "name": "python3"
  },
  "language_info": {
   "codemirror_mode": {
    "name": "ipython",
    "version": 3
   },
   "file_extension": ".py",
   "mimetype": "text/x-python",
   "name": "python",
   "nbconvert_exporter": "python",
   "pygments_lexer": "ipython3",
   "version": "3.8.8"
  }
 },
 "nbformat": 4,
 "nbformat_minor": 5
}

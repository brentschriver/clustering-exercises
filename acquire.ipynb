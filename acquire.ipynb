{
 "cells": [
  {
   "cell_type": "code",
   "execution_count": 1,
   "id": "5175be30",
   "metadata": {},
   "outputs": [],
   "source": [
    "import env\n",
    "import pandas as pd\n",
    "import os\n",
    "\n",
    "def get_connection(db, user=env.user, host=env.host, password=env.password):\n",
    "    return f'mysql+pymysql://{user}:{password}@{host}/{db}'\n",
    "\n",
    "def new_zillow_data():\n",
    "    '''\n",
    "    This function reads the zillow data from the Codeup db into a dataframe.\n",
    "    '''\n",
    "    # Create SQL query.\n",
    "    sql_query = '''\n",
    "    SELECT * FROM zillow.predictions_2017\n",
    "    left join properties_2017 using(parcelid)\n",
    "    where transactiondate < '2018-01-01' and propertylandusetypeid = 261;\n",
    "    '''\n",
    "    \n",
    "    # Read in DataFrame from Codeup db.\n",
    "    df = pd.read_sql(sql_query, get_connection('zillow'))\n",
    "    \n",
    "    return df\n",
    "\n",
    "def get_zillow_data():\n",
    "    '''\n",
    "    This function reads in titanic data from Codeup database, writes data to a csv file if a local file does not exist, and returns a df.\n",
    "    ''' \n",
    "    if os.path.isfile('zillow.csv'):\n",
    "        # If csv file exists, read in data from csv file.\n",
    "        df = pd.read_csv('zillow.csv', index_col=0)\n",
    "        \n",
    "    else:\n",
    "        # read the SQL query into a dataframe\n",
    "        df = new_zillow_data()\n",
    "        \n",
    "        # Write that dataframe to disk for later. Called \"caching\" the data for later.\n",
    "        df.to_csv('zillow.csv')\n",
    "\n",
    "        # Return the dataframe to the calling code\n",
    "    return df\n",
    "    \n"
   ]
  },
  {
   "cell_type": "code",
   "execution_count": 2,
   "id": "97927dcc",
   "metadata": {},
   "outputs": [],
   "source": [
    "zillow_df = get_zillow_data()"
   ]
  },
  {
   "cell_type": "code",
   "execution_count": 3,
   "id": "aa0110bd",
   "metadata": {},
   "outputs": [
    {
     "name": "stdout",
     "output_type": "stream",
     "text": [
      "<class 'pandas.core.frame.DataFrame'>\n",
      "Int64Index: 52441 entries, 0 to 52440\n",
      "Data columns (total 62 columns):\n",
      " #   Column                        Non-Null Count  Dtype  \n",
      "---  ------                        --------------  -----  \n",
      " 0   parcelid                      52441 non-null  int64  \n",
      " 1   id                            52441 non-null  int64  \n",
      " 2   logerror                      52441 non-null  float64\n",
      " 3   transactiondate               52441 non-null  object \n",
      " 4   id.1                          52441 non-null  int64  \n",
      " 5   airconditioningtypeid         13638 non-null  float64\n",
      " 6   architecturalstyletypeid      70 non-null     float64\n",
      " 7   basementsqft                  47 non-null     float64\n",
      " 8   bathroomcnt                   52441 non-null  float64\n",
      " 9   bedroomcnt                    52441 non-null  float64\n",
      " 10  buildingclasstypeid           0 non-null      float64\n",
      " 11  buildingqualitytypeid         33740 non-null  float64\n",
      " 12  calculatedbathnbr             52304 non-null  float64\n",
      " 13  decktypeid                    389 non-null    float64\n",
      " 14  finishedfloor1squarefeet      4381 non-null   float64\n",
      " 15  calculatedfinishedsquarefeet  52359 non-null  float64\n",
      " 16  finishedsquarefeet12          52194 non-null  float64\n",
      " 17  finishedsquarefeet13          0 non-null      float64\n",
      " 18  finishedsquarefeet15          0 non-null      float64\n",
      " 19  finishedsquarefeet50          4381 non-null   float64\n",
      " 20  finishedsquarefeet6           165 non-null    float64\n",
      " 21  fips                          52441 non-null  float64\n",
      " 22  fireplacecnt                  7243 non-null   float64\n",
      " 23  fullbathcnt                   52304 non-null  float64\n",
      " 24  garagecarcnt                  18015 non-null  float64\n",
      " 25  garagetotalsqft               18015 non-null  float64\n",
      " 26  hashottuborspa                1515 non-null   float64\n",
      " 27  heatingorsystemtypeid         33935 non-null  float64\n",
      " 28  latitude                      52441 non-null  float64\n",
      " 29  longitude                     52441 non-null  float64\n",
      " 30  lotsizesquarefeet             52072 non-null  float64\n",
      " 31  poolcnt                       11096 non-null  float64\n",
      " 32  poolsizesum                   867 non-null    float64\n",
      " 33  pooltypeid10                  444 non-null    float64\n",
      " 34  pooltypeid2                   1071 non-null   float64\n",
      " 35  pooltypeid7                   10009 non-null  float64\n",
      " 36  propertycountylandusecode     52441 non-null  object \n",
      " 37  propertylandusetypeid         52441 non-null  float64\n",
      " 38  propertyzoningdesc            33848 non-null  object \n",
      " 39  rawcensustractandblock        52441 non-null  float64\n",
      " 40  regionidcity                  51404 non-null  float64\n",
      " 41  regionidcounty                52441 non-null  float64\n",
      " 42  regionidneighborhood          19033 non-null  float64\n",
      " 43  regionidzip                   52415 non-null  float64\n",
      " 44  roomcnt                       52441 non-null  float64\n",
      " 45  storytypeid                   47 non-null     float64\n",
      " 46  threequarterbathnbr           6724 non-null   float64\n",
      " 47  typeconstructiontypeid        76 non-null     float64\n",
      " 48  unitcnt                       33847 non-null  float64\n",
      " 49  yardbuildingsqft17            1937 non-null   float64\n",
      " 50  yardbuildingsqft26            63 non-null     float64\n",
      " 51  yearbuilt                     52325 non-null  float64\n",
      " 52  numberofstories               14561 non-null  float64\n",
      " 53  fireplaceflag                 81 non-null     float64\n",
      " 54  structuretaxvaluedollarcnt    52357 non-null  float64\n",
      " 55  taxvaluedollarcnt             52440 non-null  float64\n",
      " 56  assessmentyear                52441 non-null  float64\n",
      " 57  landtaxvaluedollarcnt         52440 non-null  float64\n",
      " 58  taxamount                     52437 non-null  float64\n",
      " 59  taxdelinquencyflag            2079 non-null   object \n",
      " 60  taxdelinquencyyear            2079 non-null   float64\n",
      " 61  censustractandblock           52318 non-null  float64\n",
      "dtypes: float64(55), int64(3), object(4)\n",
      "memory usage: 25.2+ MB\n"
     ]
    }
   ],
   "source": [
    "zillow_df.info()"
   ]
  },
  {
   "cell_type": "code",
   "execution_count": 4,
   "id": "b8191fdc",
   "metadata": {},
   "outputs": [
    {
     "name": "stdout",
     "output_type": "stream",
     "text": [
      "No.of.unique values : 52320\n"
     ]
    }
   ],
   "source": [
    "n = len(pd.unique(zillow_df['parcelid']))\n",
    "  \n",
    "print(\"No.of.unique values :\", \n",
    "      n)"
   ]
  },
  {
   "cell_type": "code",
   "execution_count": null,
   "id": "b01db899",
   "metadata": {},
   "outputs": [],
   "source": []
  },
  {
   "cell_type": "code",
   "execution_count": null,
   "id": "48c5fc61",
   "metadata": {},
   "outputs": [],
   "source": []
  }
 ],
 "metadata": {
  "kernelspec": {
   "display_name": "Python 3 (ipykernel)",
   "language": "python",
   "name": "python3"
  },
  "language_info": {
   "codemirror_mode": {
    "name": "ipython",
    "version": 3
   },
   "file_extension": ".py",
   "mimetype": "text/x-python",
   "name": "python",
   "nbconvert_exporter": "python",
   "pygments_lexer": "ipython3",
   "version": "3.8.8"
  }
 },
 "nbformat": 4,
 "nbformat_minor": 5
}

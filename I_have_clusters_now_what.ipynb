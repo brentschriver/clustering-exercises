{
 "cells": [
  {
   "cell_type": "markdown",
   "id": "1028457c",
   "metadata": {},
   "source": [
    "### Ok, So I have clusters, now what?"
   ]
  },
  {
   "cell_type": "markdown",
   "id": "08cecaa1",
   "metadata": {},
   "source": [
    "### Clusters are about providing options and insight\n",
    "\n",
    "\"You know you've done clustering right when your clusters make sense and are meaningful.\" - Maggie\n",
    "\"The difference betweena. goat rodeo and making clusters is using your clusters for deeper insight.\" -RO\n",
    "\n",
    "### So what are our options?\n",
    "* Step 1 is explore each cluster ot compare and contrast the data in each.\n",
    "* Step 2 is to name yoru clusetrs if they ake sense, in English. \"Manually\" naming the clusters is powerful stuff and very common with segmentation, threat detection, and elsewhere in industry! Try to name them, if you can.\n",
    "\n",
    "* Option 1: Use the clusters to simplify multiple other variables (dimensionality reduction)\n",
    "* Option 2: Use cluster names as a target variable in order to classify incoming new data into the appropriate clusteer.\n",
    "* Option 3: Perform deeper EDA and modeling for each cluster (assuming we have a target variable, but its relationship is different on each cluster, or the interplay of other features is different on each feature)."
   ]
  },
  {
   "cell_type": "code",
   "execution_count": null,
   "id": "f14f49f5",
   "metadata": {},
   "outputs": [],
   "source": []
  },
  {
   "cell_type": "code",
   "execution_count": 1,
   "id": "fe7f9687",
   "metadata": {},
   "outputs": [],
   "source": [
    "import pandas as pd\n",
    "import numpy as np\n",
    "import seaborn as sns\n",
    "import matplotlib.pyplot as plt\n",
    "\n",
    "from sklearn.model_selection import train_test_split\n",
    "from sklearn.preprocessing import MinMaxScaler\n",
    "from sklearn.cluster import KMeans"
   ]
  },
  {
   "cell_type": "code",
   "execution_count": 2,
   "id": "cc2ae63f",
   "metadata": {},
   "outputs": [
    {
     "data": {
      "text/html": [
       "<div>\n",
       "<style scoped>\n",
       "    .dataframe tbody tr th:only-of-type {\n",
       "        vertical-align: middle;\n",
       "    }\n",
       "\n",
       "    .dataframe tbody tr th {\n",
       "        vertical-align: top;\n",
       "    }\n",
       "\n",
       "    .dataframe thead th {\n",
       "        text-align: right;\n",
       "    }\n",
       "</style>\n",
       "<table border=\"1\" class=\"dataframe\">\n",
       "  <thead>\n",
       "    <tr style=\"text-align: right;\">\n",
       "      <th></th>\n",
       "      <th>gender</th>\n",
       "      <th>age</th>\n",
       "      <th>annual_income</th>\n",
       "      <th>spending_score</th>\n",
       "    </tr>\n",
       "    <tr>\n",
       "      <th>customer_id</th>\n",
       "      <th></th>\n",
       "      <th></th>\n",
       "      <th></th>\n",
       "      <th></th>\n",
       "    </tr>\n",
       "  </thead>\n",
       "  <tbody>\n",
       "    <tr>\n",
       "      <th>1</th>\n",
       "      <td>Male</td>\n",
       "      <td>19</td>\n",
       "      <td>15</td>\n",
       "      <td>39</td>\n",
       "    </tr>\n",
       "    <tr>\n",
       "      <th>2</th>\n",
       "      <td>Male</td>\n",
       "      <td>21</td>\n",
       "      <td>15</td>\n",
       "      <td>81</td>\n",
       "    </tr>\n",
       "    <tr>\n",
       "      <th>3</th>\n",
       "      <td>Female</td>\n",
       "      <td>20</td>\n",
       "      <td>16</td>\n",
       "      <td>6</td>\n",
       "    </tr>\n",
       "    <tr>\n",
       "      <th>4</th>\n",
       "      <td>Female</td>\n",
       "      <td>23</td>\n",
       "      <td>16</td>\n",
       "      <td>77</td>\n",
       "    </tr>\n",
       "    <tr>\n",
       "      <th>5</th>\n",
       "      <td>Female</td>\n",
       "      <td>31</td>\n",
       "      <td>17</td>\n",
       "      <td>40</td>\n",
       "    </tr>\n",
       "  </tbody>\n",
       "</table>\n",
       "</div>"
      ],
      "text/plain": [
       "             gender  age  annual_income  spending_score\n",
       "customer_id                                            \n",
       "1              Male   19             15              39\n",
       "2              Male   21             15              81\n",
       "3            Female   20             16               6\n",
       "4            Female   23             16              77\n",
       "5            Female   31             17              40"
      ]
     },
     "execution_count": 2,
     "metadata": {},
     "output_type": "execute_result"
    }
   ],
   "source": [
    "# Acquire\n",
    "df = pd.read_csv('https://gist.githubusercontent.com/ryanorsinger/cc276eea59e8295204d1f581c8da509f/raw/2388559aef7a0700eb31e7604351364b16e99653/mall_customers.csv', index_col=\"customer_id\")\n",
    "df.head()"
   ]
  },
  {
   "cell_type": "markdown",
   "id": "e8d63c54",
   "metadata": {},
   "source": [
    "### Thoughts on data preparation\n",
    "\n",
    "* If gender isn't a big impact on age, income, or spending score, we can drop that column.\n",
    "* KMeans odes well with continuous values and not a bunch of one hot encoded columns for categories.\n",
    "* If the populations of each gender are significantly different, we could encode the gender column to boolean or 0/1 values. But BEWARE about clustering on a bunch of boolean (0/1) values, since the curse of dimensionality sets in rapidly with each new non-continuous feature.\n",
    "* I am choosing to leave outliers in the dataset to catch extremes in income/spending/age. (revisit later)"
   ]
  },
  {
   "cell_type": "code",
   "execution_count": 4,
   "id": "1d63ac03",
   "metadata": {},
   "outputs": [
    {
     "data": {
      "text/html": [
       "<div>\n",
       "<style scoped>\n",
       "    .dataframe tbody tr th:only-of-type {\n",
       "        vertical-align: middle;\n",
       "    }\n",
       "\n",
       "    .dataframe tbody tr th {\n",
       "        vertical-align: top;\n",
       "    }\n",
       "\n",
       "    .dataframe thead tr th {\n",
       "        text-align: left;\n",
       "    }\n",
       "\n",
       "    .dataframe thead tr:last-of-type th {\n",
       "        text-align: right;\n",
       "    }\n",
       "</style>\n",
       "<table border=\"1\" class=\"dataframe\">\n",
       "  <thead>\n",
       "    <tr>\n",
       "      <th></th>\n",
       "      <th colspan=\"5\" halign=\"left\">age</th>\n",
       "      <th colspan=\"5\" halign=\"left\">annual_income</th>\n",
       "      <th colspan=\"5\" halign=\"left\">spending_score</th>\n",
       "    </tr>\n",
       "    <tr>\n",
       "      <th></th>\n",
       "      <th>min</th>\n",
       "      <th>mean</th>\n",
       "      <th>median</th>\n",
       "      <th>std</th>\n",
       "      <th>max</th>\n",
       "      <th>min</th>\n",
       "      <th>mean</th>\n",
       "      <th>median</th>\n",
       "      <th>std</th>\n",
       "      <th>max</th>\n",
       "      <th>min</th>\n",
       "      <th>mean</th>\n",
       "      <th>median</th>\n",
       "      <th>std</th>\n",
       "      <th>max</th>\n",
       "    </tr>\n",
       "    <tr>\n",
       "      <th>gender</th>\n",
       "      <th></th>\n",
       "      <th></th>\n",
       "      <th></th>\n",
       "      <th></th>\n",
       "      <th></th>\n",
       "      <th></th>\n",
       "      <th></th>\n",
       "      <th></th>\n",
       "      <th></th>\n",
       "      <th></th>\n",
       "      <th></th>\n",
       "      <th></th>\n",
       "      <th></th>\n",
       "      <th></th>\n",
       "      <th></th>\n",
       "    </tr>\n",
       "  </thead>\n",
       "  <tbody>\n",
       "    <tr>\n",
       "      <th>Female</th>\n",
       "      <td>18</td>\n",
       "      <td>38.098214</td>\n",
       "      <td>35</td>\n",
       "      <td>12.644095</td>\n",
       "      <td>68</td>\n",
       "      <td>16</td>\n",
       "      <td>59.250000</td>\n",
       "      <td>60.0</td>\n",
       "      <td>26.011952</td>\n",
       "      <td>126</td>\n",
       "      <td>5</td>\n",
       "      <td>51.526786</td>\n",
       "      <td>50</td>\n",
       "      <td>24.11495</td>\n",
       "      <td>99</td>\n",
       "    </tr>\n",
       "    <tr>\n",
       "      <th>Male</th>\n",
       "      <td>18</td>\n",
       "      <td>39.806818</td>\n",
       "      <td>37</td>\n",
       "      <td>15.514812</td>\n",
       "      <td>70</td>\n",
       "      <td>15</td>\n",
       "      <td>62.227273</td>\n",
       "      <td>62.5</td>\n",
       "      <td>26.638373</td>\n",
       "      <td>137</td>\n",
       "      <td>1</td>\n",
       "      <td>48.511364</td>\n",
       "      <td>50</td>\n",
       "      <td>27.89677</td>\n",
       "      <td>97</td>\n",
       "    </tr>\n",
       "  </tbody>\n",
       "</table>\n",
       "</div>"
      ],
      "text/plain": [
       "       age                                  annual_income                    \\\n",
       "       min       mean median        std max           min       mean median   \n",
       "gender                                                                        \n",
       "Female  18  38.098214     35  12.644095  68            16  59.250000   60.0   \n",
       "Male    18  39.806818     37  15.514812  70            15  62.227273   62.5   \n",
       "\n",
       "                       spending_score                                  \n",
       "              std  max            min       mean median       std max  \n",
       "gender                                                                 \n",
       "Female  26.011952  126              5  51.526786     50  24.11495  99  \n",
       "Male    26.638373  137              1  48.511364     50  27.89677  97  "
      ]
     },
     "execution_count": 4,
     "metadata": {},
     "output_type": "execute_result"
    }
   ],
   "source": [
    "# Looks like the central tendencies and \n",
    "\n",
    "df.groupby('gender').agg(['min','mean','median','std','max'])"
   ]
  },
  {
   "cell_type": "code",
   "execution_count": 5,
   "id": "c2d2c5a3",
   "metadata": {},
   "outputs": [],
   "source": [
    "# Based on the above insight\n",
    "# If we had time and wanted to be more certain, we could run t-tests for independence between gender and each numeric column\n",
    "df = df.drop(columns='gender')"
   ]
  },
  {
   "cell_type": "code",
   "execution_count": 6,
   "id": "a7a20d62",
   "metadata": {},
   "outputs": [],
   "source": [
    "train = df"
   ]
  },
  {
   "cell_type": "code",
   "execution_count": 9,
   "id": "2df470d6",
   "metadata": {},
   "outputs": [],
   "source": [
    "scaler = MinMaxScaler()\n",
    "\n",
    "scaler.fit(train)\n",
    "\n",
    "train_scaled = scaler.transform(train)\n",
    "\n",
    "train_scaled = pd.DataFrame(train_scaled, columns=train.columns, index=train.index)"
   ]
  },
  {
   "cell_type": "code",
   "execution_count": 10,
   "id": "66f53ff2",
   "metadata": {},
   "outputs": [
    {
     "data": {
      "text/html": [
       "<div>\n",
       "<style scoped>\n",
       "    .dataframe tbody tr th:only-of-type {\n",
       "        vertical-align: middle;\n",
       "    }\n",
       "\n",
       "    .dataframe tbody tr th {\n",
       "        vertical-align: top;\n",
       "    }\n",
       "\n",
       "    .dataframe thead th {\n",
       "        text-align: right;\n",
       "    }\n",
       "</style>\n",
       "<table border=\"1\" class=\"dataframe\">\n",
       "  <thead>\n",
       "    <tr style=\"text-align: right;\">\n",
       "      <th></th>\n",
       "      <th>age</th>\n",
       "      <th>annual_income</th>\n",
       "      <th>spending_score</th>\n",
       "    </tr>\n",
       "    <tr>\n",
       "      <th>customer_id</th>\n",
       "      <th></th>\n",
       "      <th></th>\n",
       "      <th></th>\n",
       "    </tr>\n",
       "  </thead>\n",
       "  <tbody>\n",
       "    <tr>\n",
       "      <th>1</th>\n",
       "      <td>0.019231</td>\n",
       "      <td>0.000000</td>\n",
       "      <td>0.387755</td>\n",
       "    </tr>\n",
       "    <tr>\n",
       "      <th>2</th>\n",
       "      <td>0.057692</td>\n",
       "      <td>0.000000</td>\n",
       "      <td>0.816327</td>\n",
       "    </tr>\n",
       "    <tr>\n",
       "      <th>3</th>\n",
       "      <td>0.038462</td>\n",
       "      <td>0.008197</td>\n",
       "      <td>0.051020</td>\n",
       "    </tr>\n",
       "    <tr>\n",
       "      <th>4</th>\n",
       "      <td>0.096154</td>\n",
       "      <td>0.008197</td>\n",
       "      <td>0.775510</td>\n",
       "    </tr>\n",
       "    <tr>\n",
       "      <th>5</th>\n",
       "      <td>0.250000</td>\n",
       "      <td>0.016393</td>\n",
       "      <td>0.397959</td>\n",
       "    </tr>\n",
       "  </tbody>\n",
       "</table>\n",
       "</div>"
      ],
      "text/plain": [
       "                  age  annual_income  spending_score\n",
       "customer_id                                         \n",
       "1            0.019231       0.000000        0.387755\n",
       "2            0.057692       0.000000        0.816327\n",
       "3            0.038462       0.008197        0.051020\n",
       "4            0.096154       0.008197        0.775510\n",
       "5            0.250000       0.016393        0.397959"
      ]
     },
     "execution_count": 10,
     "metadata": {},
     "output_type": "execute_result"
    }
   ],
   "source": [
    "train_scaled.head()"
   ]
  },
  {
   "cell_type": "code",
   "execution_count": 11,
   "id": "2cd13233",
   "metadata": {},
   "outputs": [
    {
     "data": {
      "text/plain": [
       "<seaborn.axisgrid.FacetGrid at 0x7fd206c3a040>"
      ]
     },
     "execution_count": 11,
     "metadata": {},
     "output_type": "execute_result"
    },
    {
     "data": {
      "image/png": "[encoded data removed]",
      "text/plain": [
       "<Figure size 552.75x504 with 1 Axes>"
      ]
     },
     "metadata": {
      "needs_background": "light"
     },
     "output_type": "display_data"
    }
   ],
   "source": [
    "# We can plot a numeric x variable, a numeric y variable,\n",
    "# Here, we'll look at income vs. spending score broken out by gender with a hue for ages\n",
    "sns.relplot(data=train, x='annual_income', y='spending_score', hue='age', height=7, aspect=1).set(title='Income vs. Spending by age range')"
   ]
  },
  {
   "cell_type": "code",
   "execution_count": null,
   "id": "fe0cec35",
   "metadata": {},
   "outputs": [],
   "source": []
  }
 ],
 "metadata": {
  "kernelspec": {
   "display_name": "Python 3 (ipykernel)",
   "language": "python",
   "name": "python3"
  },
  "language_info": {
   "codemirror_mode": {
    "name": "ipython",
    "version": 3
   },
   "file_extension": ".py",
   "mimetype": "text/x-python",
   "name": "python",
   "nbconvert_exporter": "python",
   "pygments_lexer": "ipython3",
   "version": "3.8.8"
  }
 },
 "nbformat": 4,
 "nbformat_minor": 5
}
